{
  "nbformat": 4,
  "nbformat_minor": 0,
  "metadata": {
    "colab": {
      "name": "workingonlab7.ipynb",
      "provenance": [],
      "collapsed_sections": []
    },
    "kernelspec": {
      "name": "python2",
      "display_name": "Python 2"
    },
    "accelerator": "GPU"
  },
  "cells": [
    {
      "cell_type": "markdown",
      "metadata": {
        "id": "zmrHSiXKTXTY",
        "colab_type": "text"
      },
      "source": [
        "#Lab Exercise: Reinforcement Learning for Cartpole\n",
        "\n",
        "Note: This exercise is adopted from a similar lab developed for MIT 6.S191: Introduction to Deep Learning. \n",
        "\n",
        "Since we're no longer dealing with a supervised learning task, let's take a step back and outline our approach to the problem. First, we'll need to create our environment and initialize our agent. Moreover, we'll need to provide our agent with some sort of mechanism for remembering action and reward history... in other words, a memory bank. Then we'll need to define our learning algorithm, much like we've done in previous labs.\n",
        "\n",
        "\n",
        "First we'll import TensorFlow, enable Eager execution, and also import some dependencies."
      ]
    },
    {
      "cell_type": "code",
      "metadata": {
        "id": "xk5qeNPWCm00",
        "colab_type": "code",
        "outputId": "5217e000-6ee2-4a82-d9c5-32718511d858",
        "colab": {
          "base_uri": "https://localhost:8080/",
          "height": 68
        }
      },
      "source": [
        "!apt-get install -y xvfb python-opengl > /dev/null 2>&1\n",
        "!pip install gym pyvirtualdisplay scikit-video > /dev/null 2>&1\n",
        "\n",
        "\n",
        "%tensorflow_version 1.x\n",
        "import tensorflow as tf\n",
        "tf.enable_eager_execution()\n",
        "\n",
        "\n",
        "import gym\n",
        "import numpy as np\n",
        "import matplotlib.pyplot as plt\n",
        "from IPython import display as ipythondisplay\n",
        "import time\n",
        "\n",
        "# Download the class repository\n",
        "! git clone https://github.com/behzadanksu/CS732SP19.git  > /dev/null 2>&1\n",
        "% cd CS732SP19 \n",
        "! git pull\n",
        "\n",
        "import utils as util"
      ],
      "execution_count": 4,
      "outputs": [
        {
          "output_type": "stream",
          "text": [
            "TensorFlow 1.x selected.\n",
            "/content/CS732SP19\n",
            "Already up to date.\n"
          ],
          "name": "stdout"
        }
      ]
    },
    {
      "cell_type": "markdown",
      "metadata": {
        "id": "UT7YL8KBJIIc",
        "colab_type": "text"
      },
      "source": [
        "### 1.1 Define and inspect the environment\n",
        "\n",
        "In order to model our environment, we'll be using a toolkit developed by OpenAI, [OpenAI Gym](https://gym.openai.com/). It provides several pre-defined environments for training and testing reinforcement learning agents, including those for classic physics control tasks, Atari video games, and robotic simulations. To access the basic version of a control task, \"Cart Pole\", we can use `env = gym.make(\"CartPole-v0\")`. When we imported `gym`, we gained access to higher level functions in the package, including creating virtual worlds. Each environment has a specific identifier (for which you can read through [here](https://gym.openai.com/envs/#classic_control)) which is accessed by passing the environment name as a string variable.\n",
        "One issue we might experience when developing RL algorithms is that many aspects of the learning process are inherently random: initializing game states, changes in the environment, and the agent's actions. As such, it can be helpful to set a random \"seed\" for one of these variables to ensure some level of reproducibility. Much like you might use `numpy.random.seed`, we can call the comparable function in gym, `seed`, with our defined environment to ensure the environment's random variables are initialized the same each time. "
      ]
    },
    {
      "cell_type": "code",
      "metadata": {
        "id": "quv9SC0iIYFm",
        "colab_type": "code",
        "outputId": "5552f917-9b27-4326-9162-38b55e69af27",
        "colab": {
          "base_uri": "https://localhost:8080/",
          "height": 34
        }
      },
      "source": [
        "env = gym.make(\"CartPole-v0\")\n",
        "env.seed(1) # reproducible, since RL has high variance"
      ],
      "execution_count": 5,
      "outputs": [
        {
          "output_type": "execute_result",
          "data": {
            "text/plain": [
              "[1L]"
            ]
          },
          "metadata": {
            "tags": []
          },
          "execution_count": 5
        }
      ]
    },
    {
      "cell_type": "markdown",
      "metadata": {
        "id": "mhEITUcKK455",
        "colab_type": "text"
      },
      "source": [
        "\n",
        "**CartPole Environment: ** \n",
        "\n",
        "A pole is attached by an un-actuated joint to a cart, which moves along a frictionless track. The system is controlled by applying a force of +1 or -1 to the cart. The pendulum starts upright, and the goal is to prevent it from falling over. A reward of +1 is provided for every timestep that the pole remains upright. The episode ends when the pole is more than 15 degrees from vertical, or the cart moves more than 2.4 units from the center.\n",
        "\n",
        "<img width=\"400px\" src=\"https://danielpiedrahita.files.wordpress.com/2017/02/cart-pole.png\"></img>\n",
        "\n",
        "Observations:\n",
        "\n",
        "1. position of cart\n",
        "2. velocity of cart\n",
        "3. angle of pole\n",
        "4. rotation rate of pole\n",
        "\n",
        "We can confirm the size of the space by querying the observation space:\n"
      ]
    },
    {
      "cell_type": "code",
      "metadata": {
        "id": "UVJaEcbdIX82",
        "colab_type": "code",
        "outputId": "526386e5-2e3b-45fa-b2bc-9ecbeecb4b87",
        "colab": {
          "base_uri": "https://localhost:8080/",
          "height": 34
        }
      },
      "source": [
        "print \"Enviornment has observation space = {}\".format(env.observation_space)"
      ],
      "execution_count": 6,
      "outputs": [
        {
          "output_type": "stream",
          "text": [
            "Enviornment has observation space = Box(4,)\n"
          ],
          "name": "stdout"
        }
      ]
    },
    {
      "cell_type": "markdown",
      "metadata": {
        "id": "ZibGgjrALgPM",
        "colab_type": "text"
      },
      "source": [
        "At every time step, the agent can move either right or left. Confirm the size of the action space by querying the environment:"
      ]
    },
    {
      "cell_type": "code",
      "metadata": {
        "id": "qc9SIPxBIXrm",
        "colab_type": "code",
        "outputId": "ff04fbfe-2732-4233-ef0f-777c7be57e25",
        "colab": {
          "base_uri": "https://localhost:8080/",
          "height": 34
        }
      },
      "source": [
        "n_actions = env.action_space.n\n",
        "print \"Number of possible actions that the agent can choose from = {}\".format(n_actions)"
      ],
      "execution_count": 7,
      "outputs": [
        {
          "output_type": "stream",
          "text": [
            "Number of possible actions that the agent can choose from = 2\n"
          ],
          "name": "stdout"
        }
      ]
    },
    {
      "cell_type": "markdown",
      "metadata": {
        "id": "pPfHME8aRKkb",
        "colab_type": "text"
      },
      "source": [
        "### 1.2 Define the Agent\n",
        "\n",
        "Let's define our agent, which is simply a deep neural network which takes as input an observation of the enviornment and outputs the probability of taking each of the possible actions. \n"
      ]
    },
    {
      "cell_type": "code",
      "metadata": {
        "id": "W-o_XK4oQ4eu",
        "colab_type": "code",
        "colab": {}
      },
      "source": [
        "def create_cartpole_model():\n",
        "  model = tf.keras.models.Sequential([\n",
        "      tf.keras.layers.Dense(units=32, activation='relu'),\n",
        "      # TODO: define the output dimension of the last Dense layer\n",
        "      # Hint: think about that the space the agent needs to act in\n",
        "      tf.keras.layers.Dense(units=n_actions, activation=None) \n",
        "  ])\n",
        "  return model\n",
        "\n",
        "cartpole_model = create_cartpole_model()"
      ],
      "execution_count": 0,
      "outputs": []
    },
    {
      "cell_type": "markdown",
      "metadata": {
        "id": "d5D5NSIYS2IW",
        "colab_type": "text"
      },
      "source": [
        "Define the action function that executes a forward pass through the network and samples from the output. Take special note of the output activation of the model."
      ]
    },
    {
      "cell_type": "code",
      "metadata": {
        "id": "E_vVZRr8Q4R_",
        "colab_type": "code",
        "colab": {}
      },
      "source": [
        "def choose_action(model, observation):\n",
        "    \n",
        "  observation = observation.reshape([1, -1])\n",
        "  '''TODO: feed the observations through the model to predict the log probabilities of each possible action.'''\n",
        "  logits = model.predict(observation)\n",
        "  \n",
        "  # pass the log probabilities through a softmax to compute true probabilities\n",
        "  prob_weights = tf.nn.softmax(logits).numpy()\n",
        "  \n",
        "  '''TODO: randomly sample from the prob_weights to pick an action.\n",
        "  Hint: carefully consider the dimensionality of the input probabilities (vector) and the output action (scalar)'''\n",
        "  action = np.random.choice(n_actions, size=1, p=prob_weights.flatten())[0]\n",
        "\n",
        "  return action"
      ],
      "execution_count": 0,
      "outputs": []
    },
    {
      "cell_type": "markdown",
      "metadata": {
        "id": "_tR9uAWcTnkr",
        "colab_type": "text"
      },
      "source": [
        "### 1.3 Create the agent's memory\n",
        "\n",
        "During training, the agent will need to remember all of its observations, actions so that once the episode ends, it can \"reinforce\" the good actions and punish the undesirable actions. Let's do this by defining a simple memory buffer that contains the agent's observations, actions, and received rewards from a given episode. "
      ]
    },
    {
      "cell_type": "code",
      "metadata": {
        "id": "8MM6JwXVQ4JG",
        "colab_type": "code",
        "colab": {}
      },
      "source": [
        "class Memory:\n",
        "  def __init__(self): \n",
        "      self.clear()\n",
        "\n",
        "  def clear(self): \n",
        "      self.observations = []\n",
        "      self.actions = []\n",
        "      self.rewards = []\n",
        "\n",
        "  def add_to_memory(self, new_observation, new_action, new_reward): \n",
        "      self.observations.append(new_observation)\n",
        "      '''TODO: update the list of actions with new action'''\n",
        "      self.actions.append(new_action)\n",
        "      '''TODO: update the list of rewards with new reward'''\n",
        "      self.rewards.append(new_reward)\n",
        "        \n",
        "memory = Memory()"
      ],
      "execution_count": 0,
      "outputs": []
    },
    {
      "cell_type": "markdown",
      "metadata": {
        "id": "D4YhtPaUVj5m",
        "colab_type": "text"
      },
      "source": [
        "We're almost ready to begin the learning algorithm for our agent! The final step is to compute the discounted rewards of our agent. Recall from lecture, we use reward discount to give more preference at getting rewards now rather than later in the future. The idea of discounting rewards is similar to discounting money in the case of interest and can be defined as: \n",
        "\n",
        ">$R_{t}=\\sum_{k=0}^\\infty\\gamma^kr_{t+k}$\n",
        "\n",
        "where  $\\gamma$ is the discount factor. In other words, at the end of an episode, we'll want to depreciate any rewards received at later time steps. Since we can't play an infinite number of games, we'll be limited to the number of timesteps in an episode. When implementing the function, you can initialize a numpy array of zeros (with length of the number of time steps) and fill it with the real discounted reward values as you loop through the saved rewards from the episode. We'll also want to normalize our output, which you can do using information about the mean and standard deviation of the discounted rewards.\n"
      ]
    },
    {
      "cell_type": "code",
      "metadata": {
        "id": "5_Q2OFYtQ32X",
        "colab_type": "code",
        "colab": {}
      },
      "source": [
        "def normalize(x):\n",
        "  x -= np.mean(x)\n",
        "  x /= np.std(x)\n",
        "  return x\n",
        "\n",
        "def discount_rewards(rewards, gamma=0.95): \n",
        "  discounted_rewards = np.zeros_like(rewards)\n",
        "  R = 0\n",
        "  for t in reversed(range(0, len(rewards))):\n",
        "      # update the total discounted reward\n",
        "      R = R * gamma + rewards[t]\n",
        "      discounted_rewards[t] = R\n",
        "      \n",
        "  return normalize(discounted_rewards)"
      ],
      "execution_count": 0,
      "outputs": []
    },
    {
      "cell_type": "markdown",
      "metadata": {
        "id": "QzbY-mjGYcmt",
        "colab_type": "text"
      },
      "source": [
        "### 1.4 Define the learning algorithm\n",
        "\n",
        "Now we can start to define the learing algorithm which will be used to reinforce good behaviors of the agent and discourage bad behaviours. Start by defining the optimizer we want to use."
      ]
    },
    {
      "cell_type": "code",
      "metadata": {
        "id": "m3u6xDNMY0zg",
        "colab_type": "code",
        "colab": {}
      },
      "source": [
        "learning_rate = 1e-3\n",
        "optimizer = tf.train.AdamOptimizer(learning_rate)"
      ],
      "execution_count": 0,
      "outputs": []
    },
    {
      "cell_type": "markdown",
      "metadata": {
        "id": "M-LJwWqTZegG",
        "colab_type": "text"
      },
      "source": [
        "And now let's define the loss function. In this lab we are focusing on policy gradient methods which aim to **maximize** the likelihood of actions that result in large rewards. Equivalently, this means that we want to **minimize** the negative likelihood of these same actions. Like in supervised learning, we can use stochastic gradient descent methods to achieve this minimization. \n",
        "\n",
        "Since the log function is monotonically increasing, this means that minimizing negative **likelihood** is equivalent to minimizing negative **log-likelihood**.  Recall that we can easily compute the negative log-likelihood of an discrete action by evaluting its softmax cross entropy (https://www.tensorflow.org/api_docs/python/tf/nn/sparse_softmax_cross_entropy_with_logits) "
      ]
    },
    {
      "cell_type": "code",
      "metadata": {
        "id": "fsgZ3IDCY_Zn",
        "colab_type": "code",
        "colab": {}
      },
      "source": [
        "def compute_loss(logits, actions, rewards): \n",
        "  '''TODO: complete the call to compute the loss'''\n",
        "  neg_logprob = tf.nn.sparse_softmax_cross_entropy_with_logits(logits=logits, labels=actions) \n",
        "  '''TODO: scale the negative log probability by the rewards'''\n",
        "  loss = tf.reduce_mean( neg_logprob * rewards)\n",
        "  return loss"
      ],
      "execution_count": 0,
      "outputs": []
    },
    {
      "cell_type": "markdown",
      "metadata": {
        "id": "Rr5vQ9fqbPpp",
        "colab_type": "text"
      },
      "source": [
        "Now let's use the loss function to define a backpropogation step of our learning algorithm."
      ]
    },
    {
      "cell_type": "code",
      "metadata": {
        "id": "_50ada7nbZ7L",
        "colab_type": "code",
        "colab": {}
      },
      "source": [
        "def train_step(model, optimizer, observations, actions, discounted_rewards):\n",
        "  with tf.GradientTape() as tape:\n",
        "      # Forward propogate through the agent\n",
        "      observations = tf.convert_to_tensor(observations, dtype=tf.float32)\n",
        "      logits = model(observations)\n",
        "\n",
        "      '''TODO: call the compute_loss function to compute the loss'''\n",
        "      loss = compute_loss(logits, actions, discounted_rewards)\n",
        "\n",
        "  '''TODO: run backpropagation using the tape.gradient method'''\n",
        "  grads = tape.gradient(loss, model.trainable_variables) \n",
        "  optimizer.apply_gradients(zip(grads, model.variables), global_step=tf.train.get_or_create_global_step())"
      ],
      "execution_count": 0,
      "outputs": []
    },
    {
      "cell_type": "markdown",
      "metadata": {
        "id": "XsjKXh6BcgjR",
        "colab_type": "text"
      },
      "source": [
        "### 1.5 Let the agent go and watch it learn from scratch!\n",
        "\n",
        "Having had no prior knowledge of the environment, the agent will begin to learn how to balance the pole on the cart based only on the feedback received from the environment! Having defined how our agent can move, how it takes in new observations, and how it updates its state, we'll see how it gradually learns a policy of actions to optimize balancing the pole as long as possible.\n",
        "\n"
      ]
    },
    {
      "cell_type": "code",
      "metadata": {
        "id": "XmOzc2rrcn8Q",
        "colab_type": "code",
        "outputId": "d061d222-9039-4eaa-bfae-cb28edd05ea1",
        "colab": {
          "base_uri": "https://localhost:8080/",
          "height": 549
        }
      },
      "source": [
        "cartpole_model = create_cartpole_model()\n",
        "\n",
        "smoothed_reward = util.LossHistory(smoothing_factor=0.9)\n",
        "plotter = util.PeriodicPlotter(sec=5, xlabel='Iterations', ylabel='Rewards')\n",
        "\n",
        "\n",
        "for i_episode in range(1000):\n",
        "\n",
        "  plotter.plot(smoothed_reward.get())\n",
        "\n",
        "  # Restart the environment\n",
        "  observation = env.reset()\n",
        "\n",
        "  while True:\n",
        "      # using our observation, take an action\n",
        "      action = choose_action(cartpole_model, observation)\n",
        "      next_observation, reward, done, info = env.step(action)\n",
        "      # add to memory\n",
        "      memory.add_to_memory(observation, action, reward)\n",
        "      \n",
        "      # is the episode over? did you crash or do so well that you're done?\n",
        "      if done:\n",
        "          # determine total reward and keep a record of this\n",
        "          total_reward = sum(memory.rewards)\n",
        "          smoothed_reward.append( total_reward )\n",
        "          \n",
        "          # initiate training - remember we don't know anything about how the agent is doing until it's crashed!\n",
        "          train_step(cartpole_model, \n",
        "                     optimizer, \n",
        "                     observations = np.vstack(memory.observations),\n",
        "                     actions = np.array(memory.actions),\n",
        "                     discounted_rewards = discount_rewards(memory.rewards)\n",
        "                    )\n",
        "          \n",
        "          memory.clear()\n",
        "          break\n",
        "      # update our observatons\n",
        "      observation = next_observation"
      ],
      "execution_count": 15,
      "outputs": [
        {
          "output_type": "display_data",
          "data": {
            "image/png": "[encoded data removed]",
            "text/plain": [
              "<Figure size 432x288 with 1 Axes>"
            ]
          },
          "metadata": {
            "tags": []
          }
        },
        {
          "output_type": "display_data",
          "data": {
            "image/png": "[encoded data removed]",
            "text/plain": [
              "<Figure size 432x288 with 1 Axes>"
            ]
          },
          "metadata": {
            "tags": []
          }
        }
      ]
    },
    {
      "cell_type": "code",
      "metadata": {
        "id": "ktXxPmDvkmx4",
        "colab_type": "code",
        "colab": {
          "base_uri": "https://localhost:8080/",
          "height": 190
        },
        "outputId": "48f4b05c-728e-475a-deb4-7de6bd5b6714"
      },
      "source": [
        "!pip install pyglet==1.3.2"
      ],
      "execution_count": 1,
      "outputs": [
        {
          "output_type": "stream",
          "text": [
            "Collecting pyglet==1.3.2\n",
            "\u001b[?25l  Downloading https://files.pythonhosted.org/packages/1c/fc/dad5eaaab68f0c21e2f906a94ddb98175662cc5a654eee404d59554ce0fa/pyglet-1.3.2-py2.py3-none-any.whl (1.0MB)\n",
            "\r\u001b[K     |▎                               | 10kB 26.6MB/s eta 0:00:01\r\u001b[K     |▋                               | 20kB 30.6MB/s eta 0:00:01\r\u001b[K     |█                               | 30kB 35.3MB/s eta 0:00:01\r\u001b[K     |█▎                              | 40kB 39.6MB/s eta 0:00:01\r\u001b[K     |█▋                              | 51kB 40.5MB/s eta 0:00:01\r\u001b[K     |██                              | 61kB 43.1MB/s eta 0:00:01\r\u001b[K     |██▎                             | 71kB 42.7MB/s eta 0:00:01\r\u001b[K     |██▋                             | 81kB 43.3MB/s eta 0:00:01\r\u001b[K     |███                             | 92kB 43.7MB/s eta 0:00:01\r\u001b[K     |███▎                            | 102kB 45.0MB/s eta 0:00:01\r\u001b[K     |███▌                            | 112kB 45.0MB/s eta 0:00:01\r\u001b[K     |███▉                            | 122kB 45.0MB/s eta 0:00:01\r\u001b[K     |████▏                           | 133kB 45.0MB/s eta 0:00:01\r\u001b[K     |████▌                           | 143kB 45.0MB/s eta 0:00:01\r\u001b[K     |████▉                           | 153kB 45.0MB/s eta 0:00:01\r\u001b[K     |█████▏                          | 163kB 45.0MB/s eta 0:00:01\r\u001b[K     |█████▌                          | 174kB 45.0MB/s eta 0:00:01\r\u001b[K     |█████▉                          | 184kB 45.0MB/s eta 0:00:01\r\u001b[K     |██████▏                         | 194kB 45.0MB/s eta 0:00:01\r\u001b[K     |██████▌                         | 204kB 45.0MB/s eta 0:00:01\r\u001b[K     |██████▊                         | 215kB 45.0MB/s eta 0:00:01\r\u001b[K     |███████                         | 225kB 45.0MB/s eta 0:00:01\r\u001b[K     |███████▍                        | 235kB 45.0MB/s eta 0:00:01\r\u001b[K     |███████▊                        | 245kB 45.0MB/s eta 0:00:01\r\u001b[K     |████████                        | 256kB 45.0MB/s eta 0:00:01\r\u001b[K     |████████▍                       | 266kB 45.0MB/s eta 0:00:01\r\u001b[K     |████████▊                       | 276kB 45.0MB/s eta 0:00:01\r\u001b[K     |█████████                       | 286kB 45.0MB/s eta 0:00:01\r\u001b[K     |█████████▍                      | 296kB 45.0MB/s eta 0:00:01\r\u001b[K     |█████████▊                      | 307kB 45.0MB/s eta 0:00:01\r\u001b[K     |██████████                      | 317kB 45.0MB/s eta 0:00:01\r\u001b[K     |██████████▎                     | 327kB 45.0MB/s eta 0:00:01\r\u001b[K     |██████████▋                     | 337kB 45.0MB/s eta 0:00:01\r\u001b[K     |███████████                     | 348kB 45.0MB/s eta 0:00:01\r\u001b[K     |███████████▎                    | 358kB 45.0MB/s eta 0:00:01\r\u001b[K     |███████████▋                    | 368kB 45.0MB/s eta 0:00:01\r\u001b[K     |████████████                    | 378kB 45.0MB/s eta 0:00:01\r\u001b[K     |████████████▎                   | 389kB 45.0MB/s eta 0:00:01\r\u001b[K     |████████████▋                   | 399kB 45.0MB/s eta 0:00:01\r\u001b[K     |█████████████                   | 409kB 45.0MB/s eta 0:00:01\r\u001b[K     |█████████████▏                  | 419kB 45.0MB/s eta 0:00:01\r\u001b[K     |█████████████▌                  | 430kB 45.0MB/s eta 0:00:01\r\u001b[K     |█████████████▉                  | 440kB 45.0MB/s eta 0:00:01\r\u001b[K     |██████████████▏                 | 450kB 45.0MB/s eta 0:00:01\r\u001b[K     |██████████████▌                 | 460kB 45.0MB/s eta 0:00:01\r\u001b[K     |██████████████▉                 | 471kB 45.0MB/s eta 0:00:01\r\u001b[K     |███████████████▏                | 481kB 45.0MB/s eta 0:00:01\r\u001b[K     |███████████████▌                | 491kB 45.0MB/s eta 0:00:01\r\u001b[K     |███████████████▉                | 501kB 45.0MB/s eta 0:00:01\r\u001b[K     |████████████████▏               | 512kB 45.0MB/s eta 0:00:01\r\u001b[K     |████████████████▍               | 522kB 45.0MB/s eta 0:00:01\r\u001b[K     |████████████████▊               | 532kB 45.0MB/s eta 0:00:01\r\u001b[K     |█████████████████               | 542kB 45.0MB/s eta 0:00:01\r\u001b[K     |█████████████████▍              | 552kB 45.0MB/s eta 0:00:01\r\u001b[K     |█████████████████▊              | 563kB 45.0MB/s eta 0:00:01\r\u001b[K     |██████████████████              | 573kB 45.0MB/s eta 0:00:01\r\u001b[K     |██████████████████▍             | 583kB 45.0MB/s eta 0:00:01\r\u001b[K     |██████████████████▊             | 593kB 45.0MB/s eta 0:00:01\r\u001b[K     |███████████████████             | 604kB 45.0MB/s eta 0:00:01\r\u001b[K     |███████████████████▍            | 614kB 45.0MB/s eta 0:00:01\r\u001b[K     |███████████████████▋            | 624kB 45.0MB/s eta 0:00:01\r\u001b[K     |████████████████████            | 634kB 45.0MB/s eta 0:00:01\r\u001b[K     |████████████████████▎           | 645kB 45.0MB/s eta 0:00:01\r\u001b[K     |████████████████████▋           | 655kB 45.0MB/s eta 0:00:01\r\u001b[K     |█████████████████████           | 665kB 45.0MB/s eta 0:00:01\r\u001b[K     |█████████████████████▎          | 675kB 45.0MB/s eta 0:00:01\r\u001b[K     |█████████████████████▋          | 686kB 45.0MB/s eta 0:00:01\r\u001b[K     |██████████████████████          | 696kB 45.0MB/s eta 0:00:01\r\u001b[K     |██████████████████████▎         | 706kB 45.0MB/s eta 0:00:01\r\u001b[K     |██████████████████████▋         | 716kB 45.0MB/s eta 0:00:01\r\u001b[K     |███████████████████████         | 727kB 45.0MB/s eta 0:00:01\r\u001b[K     |███████████████████████▏        | 737kB 45.0MB/s eta 0:00:01\r\u001b[K     |███████████████████████▌        | 747kB 45.0MB/s eta 0:00:01\r\u001b[K     |███████████████████████▉        | 757kB 45.0MB/s eta 0:00:01\r\u001b[K     |████████████████████████▏       | 768kB 45.0MB/s eta 0:00:01\r\u001b[K     |████████████████████████▌       | 778kB 45.0MB/s eta 0:00:01\r\u001b[K     |████████████████████████▉       | 788kB 45.0MB/s eta 0:00:01\r\u001b[K     |█████████████████████████▏      | 798kB 45.0MB/s eta 0:00:01\r\u001b[K     |█████████████████████████▌      | 808kB 45.0MB/s eta 0:00:01\r\u001b[K     |█████████████████████████▉      | 819kB 45.0MB/s eta 0:00:01\r\u001b[K     |██████████████████████████▏     | 829kB 45.0MB/s eta 0:00:01\r\u001b[K     |██████████████████████████▍     | 839kB 45.0MB/s eta 0:00:01\r\u001b[K     |██████████████████████████▊     | 849kB 45.0MB/s eta 0:00:01\r\u001b[K     |███████████████████████████     | 860kB 45.0MB/s eta 0:00:01\r\u001b[K     |███████████████████████████▍    | 870kB 45.0MB/s eta 0:00:01\r\u001b[K     |███████████████████████████▊    | 880kB 45.0MB/s eta 0:00:01\r\u001b[K     |████████████████████████████    | 890kB 45.0MB/s eta 0:00:01\r\u001b[K     |████████████████████████████▍   | 901kB 45.0MB/s eta 0:00:01\r\u001b[K     |████████████████████████████▊   | 911kB 45.0MB/s eta 0:00:01\r\u001b[K     |█████████████████████████████   | 921kB 45.0MB/s eta 0:00:01\r\u001b[K     |█████████████████████████████▍  | 931kB 45.0MB/s eta 0:00:01\r\u001b[K     |█████████████████████████████▋  | 942kB 45.0MB/s eta 0:00:01\r\u001b[K     |██████████████████████████████  | 952kB 45.0MB/s eta 0:00:01\r\u001b[K     |██████████████████████████████▎ | 962kB 45.0MB/s eta 0:00:01\r\u001b[K     |██████████████████████████████▋ | 972kB 45.0MB/s eta 0:00:01\r\u001b[K     |███████████████████████████████ | 983kB 45.0MB/s eta 0:00:01\r\u001b[K     |███████████████████████████████▎| 993kB 45.0MB/s eta 0:00:01\r\u001b[K     |███████████████████████████████▋| 1.0MB 45.0MB/s eta 0:00:01\r\u001b[K     |████████████████████████████████| 1.0MB 45.0MB/s eta 0:00:01\r\u001b[K     |████████████████████████████████| 1.0MB 45.0MB/s \n",
            "\u001b[?25hRequirement already satisfied: future in /usr/local/lib/python2.7/dist-packages (from pyglet==1.3.2) (0.16.0)\n",
            "Installing collected packages: pyglet\n",
            "  Found existing installation: pyglet 1.4.1\n",
            "    Uninstalling pyglet-1.4.1:\n",
            "      Successfully uninstalled pyglet-1.4.1\n",
            "Successfully installed pyglet-1.3.2\n"
          ],
          "name": "stdout"
        }
      ]
    },
    {
      "cell_type": "markdown",
      "metadata": {
        "id": "mkcUtGF1VE-K",
        "colab_type": "text"
      },
      "source": [
        "### 1.6 Save a video of the trained model while it is balancing the pole"
      ]
    },
    {
      "cell_type": "code",
      "metadata": {
        "id": "M40RoTBxo3HD",
        "colab_type": "code",
        "outputId": "a60b2a15-f455-4eef-9c75-391021da6617",
        "colab": {
          "base_uri": "https://localhost:8080/",
          "height": 68
        }
      },
      "source": [
        "def save_video_of_model(model, env_name, filename='agent.mp4'):  \n",
        "  import skvideo.io\n",
        "  from pyvirtualdisplay import Display\n",
        "  display = Display(visible=0, size=(40, 30))\n",
        "  display.start()\n",
        "\n",
        "  env = gym.make(env_name)\n",
        "  obs = env.reset()\n",
        "  shape = env.render(mode='rgb_array').shape[0:2]\n",
        "\n",
        "  out = skvideo.io.FFmpegWriter(filename)\n",
        "\n",
        "  done = False\n",
        "  while not done: \n",
        "      frame = env.render(mode='rgb_array')\n",
        "      out.writeFrame(frame)\n",
        "      \n",
        "      action = model(tf.convert_to_tensor(obs.reshape((1,-1)), tf.float32)).numpy().argmax()\n",
        "      obs, reward, done, info = env.step(action)\n",
        "  out.close()\n",
        "  print \"Successfully saved into {}!\".format(filename)\n",
        "\n",
        "save_video_of_model(cartpole_model, \"CartPole-v0\")"
      ],
      "execution_count": 16,
      "outputs": [
        {
          "output_type": "stream",
          "text": [
            "WARNING: Logging before flag parsing goes to stderr.\n",
            "W0406 03:44:49.718220 139849531549568 abstractdisplay.py:154] xdpyinfo was not found, X start can not be checked! Please install xdpyinfo!\n"
          ],
          "name": "stderr"
        },
        {
          "output_type": "stream",
          "text": [
            "Successfully saved into agent.mp4!\n"
          ],
          "name": "stdout"
        }
      ]
    },
    {
      "cell_type": "markdown",
      "metadata": {
        "id": "dvvqdwO7VV_L",
        "colab_type": "text"
      },
      "source": [
        "### 1.7 Display the saved video\n"
      ]
    },
    {
      "cell_type": "code",
      "metadata": {
        "id": "DBjhWQ0XwQ1d",
        "colab_type": "code",
        "colab": {
          "base_uri": "https://localhost:8080/",
          "height": 421
        },
        "outputId": "1e47515c-7f7a-4e81-c378-1cf3786a6f05"
      },
      "source": [
        "from IPython.display import HTML\n",
        "import io, base64\n",
        "video = io.open('./agent.mp4', 'r+b').read()\n",
        "encoded = base64.b64encode(video)\n",
        "HTML(data='''\n",
        "<video controls>\n",
        "    <source src=\"data:video/mp4;base64,{0}\" type=\"video/mp4\" />\n",
        "</video>'''.format(encoded.decode('ascii')))"
      ],
      "execution_count": 17,
      "outputs": [
        {
          "output_type": "execute_result",
          "data": {
            "text/html": [
              "\n",
              "<video controls>\n",
              "    <source src=\"data:video/mp4;base64,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\" type=\"video/mp4\" />\n",
              "</video>"
            ],
            "text/plain": [
              "<IPython.core.display.HTML object>"
            ]
          },
          "metadata": {
            "tags": []
          },
          "execution_count": 17
        }
      ]
    },
    {
      "cell_type": "markdown",
      "metadata": {
        "id": "CSbVNDpaVb3_",
        "colab_type": "text"
      },
      "source": [
        "Congratulations, well done! How does the agent perform? Could you train it for shorter amounts of time and still perform well? Would training longer help even more? "
      ]
    }
  ]
}